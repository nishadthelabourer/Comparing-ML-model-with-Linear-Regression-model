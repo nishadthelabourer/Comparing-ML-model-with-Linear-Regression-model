{
 "cells": [
  {
   "cell_type": "code",
   "execution_count": 1,
   "metadata": {},
   "outputs": [],
   "source": [
    "import numpy as np\n",
    "import matplotlib.pyplot as plt\n",
    "import pandas as pd\n",
    "from sklearn.preprocessing import MinMaxScaler"
   ]
  },
  {
   "cell_type": "code",
   "execution_count": 2,
   "metadata": {},
   "outputs": [],
   "source": [
    "from tensorflow.keras import Sequential\n",
    "from tensorflow.keras.layers import Dense, LSTM, Dropout"
   ]
  },
  {
   "cell_type": "code",
   "execution_count": 3,
   "metadata": {},
   "outputs": [],
   "source": [
    "data = pd.read_csv(\"C:/Users/admin/Videos/london_merged.csv\",parse_dates=[0], index_col=[0])"
   ]
  },
  {
   "cell_type": "code",
   "execution_count": 34,
   "metadata": {},
   "outputs": [
    {
     "data": {
      "text/html": [
       "<div>\n",
       "<style scoped>\n",
       "    .dataframe tbody tr th:only-of-type {\n",
       "        vertical-align: middle;\n",
       "    }\n",
       "\n",
       "    .dataframe tbody tr th {\n",
       "        vertical-align: top;\n",
       "    }\n",
       "\n",
       "    .dataframe thead th {\n",
       "        text-align: right;\n",
       "    }\n",
       "</style>\n",
       "<table border=\"1\" class=\"dataframe\">\n",
       "  <thead>\n",
       "    <tr style=\"text-align: right;\">\n",
       "      <th></th>\n",
       "      <th>cnt</th>\n",
       "      <th>t1</th>\n",
       "      <th>t2</th>\n",
       "      <th>hum</th>\n",
       "      <th>wind_speed</th>\n",
       "      <th>weather_code</th>\n",
       "      <th>is_holiday</th>\n",
       "      <th>is_weekend</th>\n",
       "      <th>season</th>\n",
       "    </tr>\n",
       "    <tr>\n",
       "      <th>timestamp</th>\n",
       "      <th></th>\n",
       "      <th></th>\n",
       "      <th></th>\n",
       "      <th></th>\n",
       "      <th></th>\n",
       "      <th></th>\n",
       "      <th></th>\n",
       "      <th></th>\n",
       "      <th></th>\n",
       "    </tr>\n",
       "  </thead>\n",
       "  <tbody>\n",
       "    <tr>\n",
       "      <td>2017-01-01</td>\n",
       "      <td>6421</td>\n",
       "      <td>168.0</td>\n",
       "      <td>106.5</td>\n",
       "      <td>2122.5</td>\n",
       "      <td>339.0</td>\n",
       "      <td>150.0</td>\n",
       "      <td>0.0</td>\n",
       "      <td>24.0</td>\n",
       "      <td>72.0</td>\n",
       "    </tr>\n",
       "    <tr>\n",
       "      <td>2017-01-02</td>\n",
       "      <td>11823</td>\n",
       "      <td>89.5</td>\n",
       "      <td>22.5</td>\n",
       "      <td>1995.5</td>\n",
       "      <td>268.0</td>\n",
       "      <td>29.0</td>\n",
       "      <td>24.0</td>\n",
       "      <td>0.0</td>\n",
       "      <td>72.0</td>\n",
       "    </tr>\n",
       "    <tr>\n",
       "      <td>2017-01-03</td>\n",
       "      <td>19436</td>\n",
       "      <td>81.5</td>\n",
       "      <td>-15.0</td>\n",
       "      <td>1953.5</td>\n",
       "      <td>454.5</td>\n",
       "      <td>56.0</td>\n",
       "      <td>0.0</td>\n",
       "      <td>0.0</td>\n",
       "      <td>72.0</td>\n",
       "    </tr>\n",
       "  </tbody>\n",
       "</table>\n",
       "</div>"
      ],
      "text/plain": [
       "              cnt     t1     t2     hum  wind_speed  weather_code  is_holiday  \\\n",
       "timestamp                                                                       \n",
       "2017-01-01   6421  168.0  106.5  2122.5       339.0         150.0         0.0   \n",
       "2017-01-02  11823   89.5   22.5  1995.5       268.0          29.0        24.0   \n",
       "2017-01-03  19436   81.5  -15.0  1953.5       454.5          56.0         0.0   \n",
       "\n",
       "            is_weekend  season  \n",
       "timestamp                       \n",
       "2017-01-01        24.0    72.0  \n",
       "2017-01-02         0.0    72.0  \n",
       "2017-01-03         0.0    72.0  "
      ]
     },
     "execution_count": 34,
     "metadata": {},
     "output_type": "execute_result"
    }
   ],
   "source": [
    "data.tail(3)"
   ]
  },
  {
   "cell_type": "code",
   "execution_count": 6,
   "metadata": {},
   "outputs": [],
   "source": [
    "data = data.resample('D').sum()"
   ]
  },
  {
   "cell_type": "code",
   "execution_count": 7,
   "metadata": {},
   "outputs": [],
   "source": [
    "df = data[['cnt']]"
   ]
  },
  {
   "cell_type": "code",
   "execution_count": 8,
   "metadata": {},
   "outputs": [
    {
     "data": {
      "text/html": [
       "<div>\n",
       "<style scoped>\n",
       "    .dataframe tbody tr th:only-of-type {\n",
       "        vertical-align: middle;\n",
       "    }\n",
       "\n",
       "    .dataframe tbody tr th {\n",
       "        vertical-align: top;\n",
       "    }\n",
       "\n",
       "    .dataframe thead th {\n",
       "        text-align: right;\n",
       "    }\n",
       "</style>\n",
       "<table border=\"1\" class=\"dataframe\">\n",
       "  <thead>\n",
       "    <tr style=\"text-align: right;\">\n",
       "      <th></th>\n",
       "      <th>cnt</th>\n",
       "    </tr>\n",
       "    <tr>\n",
       "      <th>timestamp</th>\n",
       "      <th></th>\n",
       "    </tr>\n",
       "  </thead>\n",
       "  <tbody>\n",
       "    <tr>\n",
       "      <td>2015-01-04</td>\n",
       "      <td>9234</td>\n",
       "    </tr>\n",
       "    <tr>\n",
       "      <td>2015-01-05</td>\n",
       "      <td>20372</td>\n",
       "    </tr>\n",
       "    <tr>\n",
       "      <td>2015-01-06</td>\n",
       "      <td>20613</td>\n",
       "    </tr>\n",
       "  </tbody>\n",
       "</table>\n",
       "</div>"
      ],
      "text/plain": [
       "              cnt\n",
       "timestamp        \n",
       "2015-01-04   9234\n",
       "2015-01-05  20372\n",
       "2015-01-06  20613"
      ]
     },
     "execution_count": 8,
     "metadata": {},
     "output_type": "execute_result"
    }
   ],
   "source": [
    "df.head(3)"
   ]
  },
  {
   "cell_type": "code",
   "execution_count": 24,
   "metadata": {},
   "outputs": [],
   "source": [
    "data_training = df[:584]['cnt']\n",
    "data_test = df[584:]['cnt']"
   ]
  },
  {
   "cell_type": "code",
   "execution_count": 25,
   "metadata": {},
   "outputs": [],
   "source": [
    "x_train = []\n",
    "y_train = []"
   ]
  },
  {
   "cell_type": "code",
   "execution_count": 26,
   "metadata": {},
   "outputs": [],
   "source": [
    "for i in range(4, len(data_training)-4):\n",
    "    x_train.append(data_training[i-4:i])\n",
    "    y_train.append(data_training[i:i+4])"
   ]
  },
  {
   "cell_type": "code",
   "execution_count": 27,
   "metadata": {},
   "outputs": [],
   "source": [
    "x_train = np.array(x_train)"
   ]
  },
  {
   "cell_type": "code",
   "execution_count": 28,
   "metadata": {},
   "outputs": [],
   "source": [
    "y_train = np.array(y_train)"
   ]
  },
  {
   "cell_type": "code",
   "execution_count": 30,
   "metadata": {},
   "outputs": [
    {
     "data": {
      "text/plain": [
       "((576, 4), (576, 4))"
      ]
     },
     "execution_count": 30,
     "metadata": {},
     "output_type": "execute_result"
    }
   ],
   "source": [
    "x_train.shape, y_train.shape"
   ]
  },
  {
   "cell_type": "code",
   "execution_count": 32,
   "metadata": {},
   "outputs": [],
   "source": [
    "x_scaler = MinMaxScaler()\n",
    "x_train = x_scaler.fit_transform(x_train)\n",
    "y_scaler = MinMaxScaler()\n",
    "y_train = y_scaler.fit_transform(y_train)"
   ]
  },
  {
   "cell_type": "code",
   "execution_count": 52,
   "metadata": {},
   "outputs": [],
   "source": [
    "x_train = x_train.reshape(576,4,1)"
   ]
  },
  {
   "cell_type": "code",
   "execution_count": 53,
   "metadata": {},
   "outputs": [],
   "source": [
    "reg = Sequential()\n",
    "\n",
    "reg.add(LSTM(units=200, return_sequences=True, input_shape=(4,1)))\n",
    "reg.add(Dropout(0.2))\n",
    "\n",
    "reg.add(LSTM(units=200, return_sequences=True, input_shape=(4,1)))\n",
    "reg.add(Dropout(0.15))\n",
    "\n",
    "reg.add(LSTM(units=176, return_sequences=True, input_shape=(4,1)))\n",
    "reg.add(Dropout(0.10))\n",
    "\n",
    "reg.add(Dense(1))\n"
   ]
  },
  {
   "cell_type": "code",
   "execution_count": 54,
   "metadata": {},
   "outputs": [],
   "source": [
    "reg.compile(loss='mse', optimizer='adam')"
   ]
  },
  {
   "cell_type": "code",
   "execution_count": 55,
   "metadata": {},
   "outputs": [
    {
     "name": "stdout",
     "output_type": "stream",
     "text": [
      "Train on 576 samples\n",
      "Epoch 1/200\n",
      "WARNING:tensorflow:Entity <function Function._initialize_uninitialized_variables.<locals>.initialize_variables at 0x0000021ED2E1FEE8> could not be transformed and will be executed as-is. Please report this to the AutoGraph team. When filing the bug, set the verbosity to 10 (on Linux, `export AUTOGRAPH_VERBOSITY=10`) and attach the full output. Cause: module 'gast' has no attribute 'Num'\n",
      "WARNING: Entity <function Function._initialize_uninitialized_variables.<locals>.initialize_variables at 0x0000021ED2E1FEE8> could not be transformed and will be executed as-is. Please report this to the AutoGraph team. When filing the bug, set the verbosity to 10 (on Linux, `export AUTOGRAPH_VERBOSITY=10`) and attach the full output. Cause: module 'gast' has no attribute 'Num'\n",
      "576/576 [==============================] - 14s 24ms/sample - loss: 0.0249\n",
      "Epoch 2/200\n",
      "576/576 [==============================] - 5s 8ms/sample - loss: 0.0162 1s - l - ETA: 0s - loss:\n",
      "Epoch 3/200\n",
      "576/576 [==============================] - 5s 8ms/sample - loss: 0.0160TA: 2s  -\n",
      "Epoch 4/200\n",
      "576/576 [==============================] - 4s 8ms/sample - loss: 0.0162 0s - loss\n",
      "Epoch 5/200\n",
      "576/576 [==============================] - 5s 8ms/sample - loss: 0.0161\n",
      "Epoch 6/200\n",
      "576/576 [==============================] - 4s 8ms/sample - loss: 0.0157 0\n",
      "Epoch 7/200\n",
      "576/576 [==============================] - 4s 8ms/sample - loss: 0.0158\n",
      "Epoch 8/200\n",
      "576/576 [==============================] - 5s 8ms/sample - loss: 0.0159 0s - loss: 0.\n",
      "Epoch 9/200\n",
      "576/576 [==============================] - 4s 8ms/sample - loss: 0.0161\n",
      "Epoch 10/200\n",
      "576/576 [==============================] - 4s 8ms/sample - loss: 0.0157\n",
      "Epoch 11/200\n",
      "576/576 [==============================] - 5s 8ms/sample - loss: 0.0157\n",
      "Epoch 12/200\n",
      "576/576 [==============================] - 4s 8ms/sample - loss: 0.0156\n",
      "Epoch 13/200\n",
      "576/576 [==============================] - 5s 8ms/sample - loss: 0.0158\n",
      "Epoch 14/200\n",
      "576/576 [==============================] - 5s 8ms/sample - loss: 0.0159\n",
      "Epoch 15/200\n",
      "576/576 [==============================] - 4s 8ms/sample - loss: 0.0158\n",
      "Epoch 16/200\n",
      "576/576 [==============================] - 4s 8ms/sample - loss: 0.0160 0s - loss: \n",
      "Epoch 17/200\n",
      "576/576 [==============================] - 4s 8ms/sample - loss: 0.0158 0s - loss: \n",
      "Epoch 18/200\n",
      "576/576 [==============================] - 4s 8ms/sample - loss: 0.0160\n",
      "Epoch 19/200\n",
      "576/576 [==============================] - 4s 8ms/sample - loss: 0.0160\n",
      "Epoch 20/200\n",
      "576/576 [==============================] - 4s 8ms/sample - loss: 0.0157\n",
      "Epoch 21/200\n",
      "576/576 [==============================] - 4s 8ms/sample - loss: 0.0156\n",
      "Epoch 22/200\n",
      "576/576 [==============================] - 4s 8ms/sample - loss: 0.0158\n",
      "Epoch 23/200\n",
      "576/576 [==============================] - 4s 8ms/sample - loss: 0.0156\n",
      "Epoch 24/200\n",
      "576/576 [==============================] - 5s 8ms/sample - loss: 0.0156 0s - \n",
      "Epoch 25/200\n",
      "576/576 [==============================] - 5s 9ms/sample - loss: 0.0160\n",
      "Epoch 26/200\n",
      "576/576 [==============================] - 5s 8ms/sample - loss: 0.0157\n",
      "Epoch 27/200\n",
      "576/576 [==============================] - 4s 8ms/sample - loss: 0.0157\n",
      "Epoch 28/200\n",
      "576/576 [==============================] - 4s 8ms/sample - loss: 0.0157\n",
      "Epoch 29/200\n",
      "576/576 [==============================] - 5s 8ms/sample - loss: 0.0157\n",
      "Epoch 30/200\n",
      "576/576 [==============================] - 5s 8ms/sample - loss: 0.0156\n",
      "Epoch 31/200\n",
      "576/576 [==============================] - 4s 8ms/sample - loss: 0.0158\n",
      "Epoch 32/200\n",
      "576/576 [==============================] - 4s 8ms/sample - loss: 0.0156\n",
      "Epoch 33/200\n",
      "576/576 [==============================] - 5s 8ms/sample - loss: 0.0156\n",
      "Epoch 34/200\n",
      "576/576 [==============================] - 4s 8ms/sample - loss: 0.0157 0s - lo\n",
      "Epoch 35/200\n",
      "576/576 [==============================] - 4s 8ms/sample - loss: 0.0158\n",
      "Epoch 36/200\n",
      "576/576 [==============================] - 4s 8ms/sample - loss: 0.0156\n",
      "Epoch 37/200\n",
      "576/576 [==============================] - 5s 8ms/sample - loss: 0.0157\n",
      "Epoch 38/200\n",
      "576/576 [==============================] - 5s 8ms/sample - loss: 0.0156\n",
      "Epoch 39/200\n",
      "576/576 [==============================] - 4s 8ms/sample - loss: 0.0158\n",
      "Epoch 40/200\n",
      "576/576 [==============================] - 4s 8ms/sample - loss: 0.0157\n",
      "Epoch 41/200\n",
      "576/576 [==============================] - 4s 8ms/sample - loss: 0.0157\n",
      "Epoch 42/200\n",
      "576/576 [==============================] - 4s 8ms/sample - loss: 0.0158\n",
      "Epoch 43/200\n",
      "576/576 [==============================] - 4s 8ms/sample - loss: 0.0157\n",
      "Epoch 44/200\n",
      "576/576 [==============================] - 4s 8ms/sample - loss: 0.0158\n",
      "Epoch 45/200\n",
      "576/576 [==============================] - 4s 8ms/sample - loss: 0.0157\n",
      "Epoch 46/200\n",
      "576/576 [==============================] - 4s 8ms/sample - loss: 0.0157\n",
      "Epoch 47/200\n",
      "576/576 [==============================] - 4s 8ms/sample - loss: 0.0156\n",
      "Epoch 48/200\n",
      "576/576 [==============================] - 4s 8ms/sample - loss: 0.0155 0s\n",
      "Epoch 49/200\n",
      "576/576 [==============================] - 4s 7ms/sample - loss: 0.0156\n",
      "Epoch 50/200\n",
      "576/576 [==============================] - 4s 7ms/sample - loss: 0.0155\n",
      "Epoch 51/200\n",
      "576/576 [==============================] - 4s 7ms/sample - loss: 0.0156\n",
      "Epoch 52/200\n",
      "576/576 [==============================] - 4s 8ms/sample - loss: 0.0156\n",
      "Epoch 53/200\n",
      "576/576 [==============================] - 4s 7ms/sample - loss: 0.0156\n",
      "Epoch 54/200\n",
      "576/576 [==============================] - 4s 7ms/sample - loss: 0.0156 0s - \n",
      "Epoch 55/200\n",
      "576/576 [==============================] - 4s 7ms/sample - loss: 0.0156\n",
      "Epoch 56/200\n",
      "576/576 [==============================] - 4s 7ms/sample - loss: 0.0156\n",
      "Epoch 57/200\n",
      "576/576 [==============================] - 4s 7ms/sample - loss: 0.0155\n",
      "Epoch 58/200\n",
      "576/576 [==============================] - 4s 7ms/sample - loss: 0.0156\n",
      "Epoch 59/200\n",
      "576/576 [==============================] - 4s 8ms/sample - loss: 0.0155\n",
      "Epoch 60/200\n",
      "576/576 [==============================] - 4s 8ms/sample - loss: 0.0159\n",
      "Epoch 61/200\n",
      "576/576 [==============================] - 4s 7ms/sample - loss: 0.0153\n",
      "Epoch 62/200\n",
      "576/576 [==============================] - 4s 8ms/sample - loss: 0.0153\n",
      "Epoch 63/200\n",
      "576/576 [==============================] - 5s 8ms/sample - loss: 0.0157\n",
      "Epoch 64/200\n",
      "576/576 [==============================] - 4s 7ms/sample - loss: 0.0156\n",
      "Epoch 65/200\n",
      "576/576 [==============================] - 4s 7ms/sample - loss: 0.0155\n",
      "Epoch 66/200\n",
      "576/576 [==============================] - 4s 8ms/sample - loss: 0.0156\n",
      "Epoch 67/200\n",
      "576/576 [==============================] - 4s 8ms/sample - loss: 0.0153\n",
      "Epoch 68/200\n",
      "576/576 [==============================] - 4s 7ms/sample - loss: 0.0156 0s - loss: 0.015\n",
      "Epoch 69/200\n",
      "576/576 [==============================] - 4s 8ms/sample - loss: 0.0156 0s - l\n",
      "Epoch 70/200\n",
      "576/576 [==============================] - 4s 8ms/sample - loss: 0.0156\n",
      "Epoch 71/200\n",
      "576/576 [==============================] - 4s 8ms/sample - loss: 0.0154\n",
      "Epoch 72/200\n",
      "576/576 [==============================] - 4s 7ms/sample - loss: 0.0156\n",
      "Epoch 73/200\n",
      "576/576 [==============================] - 4s 7ms/sample - loss: 0.0156\n",
      "Epoch 74/200\n",
      "576/576 [==============================] - 4s 8ms/sample - loss: 0.0156\n",
      "Epoch 75/200\n",
      "576/576 [==============================] - 4s 8ms/sample - loss: 0.0156 0s \n",
      "Epoch 76/200\n",
      "576/576 [==============================] - 4s 7ms/sample - loss: 0.0155\n",
      "Epoch 77/200\n",
      "576/576 [==============================] - 4s 8ms/sample - loss: 0.0154 0s - loss: 0.\n",
      "Epoch 78/200\n",
      "576/576 [==============================] - 4s 8ms/sample - loss: 0.0155\n",
      "Epoch 79/200\n",
      "576/576 [==============================] - 4s 7ms/sample - loss: 0.0155\n",
      "Epoch 80/200\n",
      "576/576 [==============================] - 4s 7ms/sample - loss: 0.0155\n",
      "Epoch 81/200\n",
      "576/576 [==============================] - 4s 7ms/sample - loss: 0.0155\n",
      "Epoch 82/200\n",
      "576/576 [==============================] - 4s 7ms/sample - loss: 0.0155\n",
      "Epoch 83/200\n",
      "576/576 [==============================] - 4s 7ms/sample - loss: 0.0154\n",
      "Epoch 84/200\n",
      "576/576 [==============================] - 4s 7ms/sample - loss: 0.0154\n",
      "Epoch 85/200\n",
      "576/576 [==============================] - 4s 7ms/sample - loss: 0.0155\n",
      "Epoch 86/200\n",
      "576/576 [==============================] - 4s 7ms/sample - loss: 0.0154\n",
      "Epoch 87/200\n",
      "576/576 [==============================] - 4s 8ms/sample - loss: 0.0155 0s - \n",
      "Epoch 88/200\n",
      "576/576 [==============================] - 4s 8ms/sample - loss: 0.0155\n",
      "Epoch 89/200\n",
      "576/576 [==============================] - 4s 8ms/sample - loss: 0.0154 0s  - ETA: 0s - loss: 0.01\n",
      "Epoch 90/200\n",
      "576/576 [==============================] - 4s 8ms/sample - loss: 0.0155\n",
      "Epoch 91/200\n",
      "576/576 [==============================] - 4s 8ms/sample - loss: 0.0155\n",
      "Epoch 92/200\n",
      "576/576 [==============================] - 4s 7ms/sample - loss: 0.0157\n",
      "Epoch 93/200\n",
      "576/576 [==============================] - 4s 8ms/sample - loss: 0.0154\n",
      "Epoch 94/200\n",
      "576/576 [==============================] - 4s 8ms/sample - loss: 0.0156\n",
      "Epoch 95/200\n",
      "576/576 [==============================] - 4s 8ms/sample - loss: 0.0155\n",
      "Epoch 96/200\n",
      "576/576 [==============================] - 4s 8ms/sample - loss: 0.0153\n",
      "Epoch 97/200\n",
      "576/576 [==============================] - 4s 8ms/sample - loss: 0.0156\n",
      "Epoch 98/200\n",
      "576/576 [==============================] - 4s 7ms/sample - loss: 0.0155\n",
      "Epoch 99/200\n",
      "576/576 [==============================] - 4s 8ms/sample - loss: 0.0155\n",
      "Epoch 100/200\n",
      "576/576 [==============================] - 4s 7ms/sample - loss: 0.0156\n",
      "Epoch 101/200\n",
      "576/576 [==============================] - 4s 7ms/sample - loss: 0.0155\n",
      "Epoch 102/200\n",
      "576/576 [==============================] - 4s 8ms/sample - loss: 0.0154\n",
      "Epoch 103/200\n",
      "576/576 [==============================] - 4s 8ms/sample - loss: 0.0154\n",
      "Epoch 104/200\n",
      "576/576 [==============================] - 4s 8ms/sample - loss: 0.0157\n",
      "Epoch 105/200\n",
      "576/576 [==============================] - 4s 8ms/sample - loss: 0.0156\n",
      "Epoch 106/200\n",
      "576/576 [==============================] - 4s 7ms/sample - loss: 0.0156\n",
      "Epoch 107/200\n",
      "576/576 [==============================] - 4s 7ms/sample - loss: 0.0155\n",
      "Epoch 108/200\n",
      "576/576 [==============================] - 4s 8ms/sample - loss: 0.0153\n",
      "Epoch 109/200\n",
      "576/576 [==============================] - 4s 7ms/sample - loss: 0.0155\n",
      "Epoch 110/200\n",
      "576/576 [==============================] - 4s 8ms/sample - loss: 0.0155\n",
      "Epoch 111/200\n",
      "576/576 [==============================] - 4s 8ms/sample - loss: 0.0154\n",
      "Epoch 112/200\n",
      "576/576 [==============================] - 4s 8ms/sample - loss: 0.0155\n",
      "Epoch 113/200\n",
      "576/576 [==============================] - 4s 7ms/sample - loss: 0.0155\n",
      "Epoch 114/200\n",
      "576/576 [==============================] - 4s 8ms/sample - loss: 0.0153\n",
      "Epoch 115/200\n",
      "576/576 [==============================] - 4s 8ms/sample - loss: 0.0154\n",
      "Epoch 116/200\n",
      "576/576 [==============================] - 4s 7ms/sample - loss: 0.0156\n",
      "Epoch 117/200\n",
      "576/576 [==============================] - 4s 7ms/sample - loss: 0.0155\n",
      "Epoch 118/200\n",
      "576/576 [==============================] - 4s 7ms/sample - loss: 0.0155\n",
      "Epoch 119/200\n",
      "576/576 [==============================] - 4s 8ms/sample - loss: 0.0155\n",
      "Epoch 120/200\n",
      "576/576 [==============================] - 4s 8ms/sample - loss: 0.0154\n",
      "Epoch 121/200\n",
      "576/576 [==============================] - 4s 8ms/sample - loss: 0.0155\n",
      "Epoch 122/200\n",
      "576/576 [==============================] - 4s 8ms/sample - loss: 0.0155\n",
      "Epoch 123/200\n",
      "576/576 [==============================] - 4s 8ms/sample - loss: 0.0155\n",
      "Epoch 124/200\n",
      "576/576 [==============================] - 4s 8ms/sample - loss: 0.0154\n",
      "Epoch 125/200\n",
      "576/576 [==============================] - 4s 8ms/sample - loss: 0.0155\n",
      "Epoch 126/200\n",
      "576/576 [==============================] - 4s 8ms/sample - loss: 0.0154\n",
      "Epoch 127/200\n",
      "576/576 [==============================] - 4s 8ms/sample - loss: 0.0154\n",
      "Epoch 128/200\n",
      "576/576 [==============================] - 4s 8ms/sample - loss: 0.0155\n",
      "Epoch 129/200\n",
      "576/576 [==============================] - 4s 8ms/sample - loss: 0.0152\n",
      "Epoch 130/200\n",
      "576/576 [==============================] - 4s 8ms/sample - loss: 0.0155\n",
      "Epoch 131/200\n",
      "576/576 [==============================] - 4s 8ms/sample - loss: 0.0155 0s - loss:\n",
      "Epoch 132/200\n",
      "576/576 [==============================] - 4s 8ms/sample - loss: 0.0155\n",
      "Epoch 133/200\n",
      "576/576 [==============================] - 4s 8ms/sample - loss: 0.0154\n",
      "Epoch 134/200\n",
      "576/576 [==============================] - 4s 8ms/sample - loss: 0.0154\n",
      "Epoch 135/200\n",
      "576/576 [==============================] - 4s 8ms/sample - loss: 0.0155\n",
      "Epoch 136/200\n",
      "576/576 [==============================] - 4s 8ms/sample - loss: 0.0154\n",
      "Epoch 137/200\n",
      "576/576 [==============================] - 4s 8ms/sample - loss: 0.0154\n",
      "Epoch 138/200\n",
      "576/576 [==============================] - 4s 8ms/sample - loss: 0.0153\n",
      "Epoch 139/200\n",
      "576/576 [==============================] - 4s 7ms/sample - loss: 0.0155\n",
      "Epoch 140/200\n",
      "576/576 [==============================] - 4s 8ms/sample - loss: 0.0154 0s - loss: 0.015\n",
      "Epoch 141/200\n",
      "576/576 [==============================] - 4s 8ms/sample - loss: 0.0153\n",
      "Epoch 142/200\n",
      "576/576 [==============================] - 4s 8ms/sample - loss: 0.0154\n",
      "Epoch 143/200\n",
      "576/576 [==============================] - 4s 7ms/sample - loss: 0.0155\n",
      "Epoch 144/200\n",
      "576/576 [==============================] - 4s 7ms/sample - loss: 0.0154\n",
      "Epoch 145/200\n",
      "576/576 [==============================] - 4s 7ms/sample - loss: 0.0156\n",
      "Epoch 146/200\n",
      "576/576 [==============================] - 4s 8ms/sample - loss: 0.0153\n",
      "Epoch 147/200\n",
      "576/576 [==============================] - 4s 7ms/sample - loss: 0.0154 0s - loss: 0\n",
      "Epoch 148/200\n",
      "576/576 [==============================] - 4s 8ms/sample - loss: 0.0154\n",
      "Epoch 149/200\n",
      "576/576 [==============================] - 4s 8ms/sample - loss: 0.0154\n",
      "Epoch 150/200\n",
      "576/576 [==============================] - 4s 7ms/sample - loss: 0.0154\n",
      "Epoch 151/200\n",
      "576/576 [==============================] - 4s 7ms/sample - loss: 0.0154\n",
      "Epoch 152/200\n",
      "576/576 [==============================] - 4s 7ms/sample - loss: 0.0154\n",
      "Epoch 153/200\n",
      "576/576 [==============================] - 4s 7ms/sample - loss: 0.0154 0s \n",
      "Epoch 154/200\n",
      "576/576 [==============================] - 4s 7ms/sample - loss: 0.0155\n",
      "Epoch 155/200\n",
      "576/576 [==============================] - 4s 7ms/sample - loss: 0.0155  - ETA: 0s - loss: 0\n",
      "Epoch 156/200\n",
      "576/576 [==============================] - 4s 8ms/sample - loss: 0.0155\n",
      "Epoch 157/200\n",
      "576/576 [==============================] - 4s 8ms/sample - loss: 0.0155\n",
      "Epoch 158/200\n",
      "576/576 [==============================] - 4s 8ms/sample - loss: 0.0154\n",
      "Epoch 159/200\n",
      "576/576 [==============================] - 4s 7ms/sample - loss: 0.0153\n",
      "Epoch 160/200\n",
      "576/576 [==============================] - 4s 8ms/sample - loss: 0.0155\n",
      "Epoch 161/200\n",
      "576/576 [==============================] - 4s 7ms/sample - loss: 0.0154\n",
      "Epoch 162/200\n",
      "576/576 [==============================] - 4s 7ms/sample - loss: 0.0153\n",
      "Epoch 163/200\n",
      "576/576 [==============================] - 4s 7ms/sample - loss: 0.0154\n",
      "Epoch 164/200\n",
      "576/576 [==============================] - 4s 8ms/sample - loss: 0.0153\n",
      "Epoch 165/200\n",
      "576/576 [==============================] - 4s 7ms/sample - loss: 0.0154\n",
      "Epoch 166/200\n",
      "576/576 [==============================] - 4s 8ms/sample - loss: 0.0155\n",
      "Epoch 167/200\n",
      "576/576 [==============================] - 4s 8ms/sample - loss: 0.0152 0s - loss: 0.0\n",
      "Epoch 168/200\n",
      "576/576 [==============================] - 4s 8ms/sample - loss: 0.0154\n",
      "Epoch 169/200\n",
      "576/576 [==============================] - 4s 8ms/sample - loss: 0.0153\n",
      "Epoch 170/200\n",
      "576/576 [==============================] - 4s 8ms/sample - loss: 0.0153\n",
      "Epoch 171/200\n",
      "576/576 [==============================] - 4s 8ms/sample - loss: 0.0153\n",
      "Epoch 172/200\n",
      "576/576 [==============================] - 4s 7ms/sample - loss: 0.0153\n",
      "Epoch 173/200\n",
      "576/576 [==============================] - 4s 7ms/sample - loss: 0.0154\n",
      "Epoch 174/200\n",
      "576/576 [==============================] - 4s 8ms/sample - loss: 0.0154\n",
      "Epoch 175/200\n",
      "576/576 [==============================] - 4s 8ms/sample - loss: 0.0154\n",
      "Epoch 176/200\n",
      "576/576 [==============================] - 4s 7ms/sample - loss: 0.0154\n",
      "Epoch 177/200\n",
      "576/576 [==============================] - 4s 7ms/sample - loss: 0.0155 0s - loss: 0.0\n",
      "Epoch 178/200\n",
      "576/576 [==============================] - 4s 8ms/sample - loss: 0.0154\n",
      "Epoch 179/200\n",
      "576/576 [==============================] - 4s 7ms/sample - loss: 0.0153\n",
      "Epoch 180/200\n",
      "576/576 [==============================] - 4s 8ms/sample - loss: 0.0154\n",
      "Epoch 181/200\n",
      "576/576 [==============================] - 4s 8ms/sample - loss: 0.0154\n",
      "Epoch 182/200\n",
      "576/576 [==============================] - 4s 8ms/sample - loss: 0.0153\n",
      "Epoch 183/200\n",
      "576/576 [==============================] - 4s 8ms/sample - loss: 0.0152\n",
      "Epoch 184/200\n",
      "576/576 [==============================] - 4s 8ms/sample - loss: 0.0152\n",
      "Epoch 185/200\n",
      "576/576 [==============================] - 4s 8ms/sample - loss: 0.0153\n",
      "Epoch 186/200\n",
      "576/576 [==============================] - 5s 8ms/sample - loss: 0.0153\n",
      "Epoch 187/200\n",
      "576/576 [==============================] - 4s 8ms/sample - loss: 0.0154\n",
      "Epoch 188/200\n",
      "576/576 [==============================] - 4s 8ms/sample - loss: 0.0155\n",
      "Epoch 189/200\n",
      "576/576 [==============================] - 4s 8ms/sample - loss: 0.0155\n",
      "Epoch 190/200\n",
      "576/576 [==============================] - 4s 8ms/sample - loss: 0.0154\n",
      "Epoch 191/200\n",
      "576/576 [==============================] - 4s 8ms/sample - loss: 0.0154\n",
      "Epoch 192/200\n",
      "576/576 [==============================] - 4s 8ms/sample - loss: 0.0154\n",
      "Epoch 193/200\n",
      "576/576 [==============================] - 4s 8ms/sample - loss: 0.0154\n",
      "Epoch 194/200\n",
      "576/576 [==============================] - 4s 8ms/sample - loss: 0.0152\n",
      "Epoch 195/200\n",
      "576/576 [==============================] - 4s 8ms/sample - loss: 0.0152\n",
      "Epoch 196/200\n",
      "576/576 [==============================] - 4s 8ms/sample - loss: 0.0154\n",
      "Epoch 197/200\n",
      "576/576 [==============================] - 5s 8ms/sample - loss: 0.0154\n",
      "Epoch 198/200\n",
      "576/576 [==============================] - 4s 8ms/sample - loss: 0.0151\n",
      "Epoch 199/200\n",
      "576/576 [==============================] - 4s 8ms/sample - loss: 0.0154\n",
      "Epoch 200/200\n",
      "576/576 [==============================] - 5s 8ms/sample - loss: 0.0154\n"
     ]
    },
    {
     "data": {
      "text/plain": [
       "<tensorflow.python.keras.callbacks.History at 0x21ed1ef0348>"
      ]
     },
     "execution_count": 55,
     "metadata": {},
     "output_type": "execute_result"
    }
   ],
   "source": [
    "reg.fit(x_train, y_train, epochs=200, batch_size=4)"
   ]
  },
  {
   "cell_type": "code",
   "execution_count": 56,
   "metadata": {},
   "outputs": [],
   "source": [
    "x_test = []\n",
    "y_test = []"
   ]
  },
  {
   "cell_type": "code",
   "execution_count": 57,
   "metadata": {},
   "outputs": [],
   "source": [
    "for i in range(4, len(data_test)-4):\n",
    "    x_test.append(data_test[i-4:i])\n",
    "    y_test.append(data_test[i:i+4])"
   ]
  },
  {
   "cell_type": "code",
   "execution_count": 58,
   "metadata": {},
   "outputs": [],
   "source": [
    "x_test , y_test = np.array(x_test), np.array(y_test)"
   ]
  },
  {
   "cell_type": "code",
   "execution_count": 59,
   "metadata": {},
   "outputs": [
    {
     "data": {
      "text/plain": [
       "((139, 4), (139, 4))"
      ]
     },
     "execution_count": 59,
     "metadata": {},
     "output_type": "execute_result"
    }
   ],
   "source": [
    "x_test.shape, y_test.shape"
   ]
  },
  {
   "cell_type": "code",
   "execution_count": 60,
   "metadata": {},
   "outputs": [],
   "source": [
    "x_test = x_scaler.fit_transform(x_test)"
   ]
  },
  {
   "cell_type": "code",
   "execution_count": 61,
   "metadata": {},
   "outputs": [],
   "source": [
    "x_test = x_test.reshape(139,4,1)"
   ]
  },
  {
   "cell_type": "code",
   "execution_count": 62,
   "metadata": {},
   "outputs": [],
   "source": [
    "y_pred = reg.predict(x_test)"
   ]
  },
  {
   "cell_type": "code",
   "execution_count": 63,
   "metadata": {},
   "outputs": [
    {
     "data": {
      "text/plain": [
       "(139, 4, 1)"
      ]
     },
     "execution_count": 63,
     "metadata": {},
     "output_type": "execute_result"
    }
   ],
   "source": [
    "y_pred.shape"
   ]
  },
  {
   "cell_type": "code",
   "execution_count": 64,
   "metadata": {},
   "outputs": [],
   "source": [
    "y_pred = y_pred.reshape(139,4)"
   ]
  },
  {
   "cell_type": "code",
   "execution_count": 65,
   "metadata": {},
   "outputs": [],
   "source": [
    "y_pred = y_scaler.transform(y_pred)"
   ]
  },
  {
   "cell_type": "code",
   "execution_count": 66,
   "metadata": {},
   "outputs": [],
   "source": [
    "from sklearn.metrics import mean_squared_error"
   ]
  },
  {
   "cell_type": "code",
   "execution_count": 67,
   "metadata": {},
   "outputs": [],
   "source": [
    "def evaluate_model(y_test,y_pred):\n",
    "    scores=[]\n",
    "    \n",
    "    for i in range(y_test.shape[1]):\n",
    "        mse = mean_squared_error(y_test[:,i],y_pred[:,i])\n",
    "        rmse = np.sqrt(mse)\n",
    "        scores.append(rmse)\n",
    "        \n",
    "    return scores"
   ]
  },
  {
   "cell_type": "code",
   "execution_count": 69,
   "metadata": {},
   "outputs": [
    {
     "data": {
      "text/plain": [
       "[29589.04205184969, 29370.364098450842, 29176.494753547184, 29006.566376041636]"
      ]
     },
     "execution_count": 69,
     "metadata": {},
     "output_type": "execute_result"
    }
   ],
   "source": [
    "evaluate_model(y_test,y_pred)"
   ]
  },
  {
   "cell_type": "code",
   "execution_count": 73,
   "metadata": {},
   "outputs": [
    {
     "data": {
      "text/plain": [
       "7970.571670212871"
      ]
     },
     "execution_count": 73,
     "metadata": {},
     "output_type": "execute_result"
    }
   ],
   "source": [
    "np.std(y_test[3])"
   ]
  },
  {
   "cell_type": "markdown",
   "metadata": {},
   "source": [
    "# Linear Regression model has significantly less error has compared with ML (machine Learning) model. "
   ]
  }
 ],
 "metadata": {
  "kernelspec": {
   "display_name": "Python 3",
   "language": "python",
   "name": "python3"
  },
  "language_info": {
   "codemirror_mode": {
    "name": "ipython",
    "version": 3
   },
   "file_extension": ".py",
   "mimetype": "text/x-python",
   "name": "python",
   "nbconvert_exporter": "python",
   "pygments_lexer": "ipython3",
   "version": "3.7.4"
  }
 },
 "nbformat": 4,
 "nbformat_minor": 2
}
